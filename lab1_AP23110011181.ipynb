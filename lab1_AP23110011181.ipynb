{
  "cells": [
    {
      "cell_type": "markdown",
      "id": "20dc80e4",
      "metadata": {
        "id": "20dc80e4"
      },
      "source": [
        "# 🧑‍💻 NumPy Complete Guided Project\n",
        "**Instructor / Student Colab Notebook** – covers *all* key concepts from `Numpy‑1` to `Numpy‑5`.\n",
        "\n",
        "*Generated: 08 Aug 2025*"
      ]
    },
    {
      "cell_type": "markdown",
      "id": "e8b8b6cf",
      "metadata": {
        "id": "e8b8b6cf"
      },
      "source": [
        "\n",
        "**Table of Contents**\n",
        "\n",
        "1. [Setup](#setup)  \n",
        "2. [Array Creation & Dtypes](#creation)  \n",
        "3. [Array Attributes & Inspection](#attributes)  \n",
        "4. [Indexing, Slicing, Fancy Indexing](#indexing)  \n",
        "5. [Reshaping, Transpose & Copies vs Views](#reshape)  \n",
        "6. [Joining, Splitting, Set & Sorting Ops](#join)  \n",
        "7. [Arithmetic Ops, Universal Functions](#arithmetic)  \n",
        "8. [Broadcasting (Rules + Examples)](#broadcast)  \n",
        "9. [Statistics & Aggregations](#stats)  \n",
        "10. [Random Numbers & Reproducibility](#random)  \n",
        "11. [Structured / Recarrays](#structured)  \n",
        "12. [Linear Algebra Essentials](#linalg)  \n",
        "13. [File I/O (`npy`, `npz`, `txt`)](#io)  \n",
        "14. [Datetime64 & Timedelta64](#datetime)  \n",
        "15. [Masked Arrays & NaNs](#mask)  \n",
        "16. [Mini‑Project — Fitness Data Analysis](#project)  \n",
        "17. [Conclusion & Next Steps](#conclusion)  \n"
      ]
    },
    {
      "cell_type": "markdown",
      "id": "9170f3ee",
      "metadata": {
        "id": "9170f3ee"
      },
      "source": [
        "## <a name='setup'></a>1️⃣ Setup"
      ]
    },
    {
      "cell_type": "code",
      "execution_count": 1,
      "id": "4f54988f",
      "metadata": {
        "colab": {
          "base_uri": "https://localhost:8080/"
        },
        "id": "4f54988f",
        "outputId": "f32e4cf2-36de-4a05-9aaf-629dba294928"
      },
      "outputs": [
        {
          "output_type": "stream",
          "name": "stdout",
          "text": [
            "NumPy version: 2.0.2\n"
          ]
        }
      ],
      "source": [
        "import numpy as np, math, os, pathlib, types, textwrap, random\n",
        "print('NumPy version:', np.__version__)"
      ]
    },
    {
      "cell_type": "markdown",
      "id": "c7f7b2c8",
      "metadata": {
        "id": "c7f7b2c8"
      },
      "source": [
        "## <a name='creation'></a>2️⃣ Array Creation & Dtypes"
      ]
    },
    {
      "cell_type": "markdown",
      "id": "47405152",
      "metadata": {
        "id": "47405152"
      },
      "source": [
        "Key functions: `np.array`, `np.arange`, `np.linspace`, `zeros`, `ones`, `full`, `eye`, `identity`, `diag`, `empty`"
      ]
    },
    {
      "cell_type": "code",
      "execution_count": null,
      "id": "801e99ad",
      "metadata": {
        "id": "801e99ad"
      },
      "outputs": [],
      "source": [
        "# EXAMPLE\n",
        "arr1 = np.array([1, 2, 3], dtype=np.int32)\n",
        "arr2 = np.linspace(0, 1, 6)\n",
        "arr3 = np.full((2,3), 7.5)\n",
        "print(arr1, arr2, arr3, sep=\"\\n\")\n",
        "print(\"dtypes:\", arr1.dtype, arr2.dtype)\n"
      ]
    },
    {
      "cell_type": "code",
      "execution_count": 4,
      "id": "dc63d076",
      "metadata": {
        "colab": {
          "base_uri": "https://localhost:8080/"
        },
        "id": "dc63d076",
        "outputId": "ea82d9c8-f232-4d7c-fb70-77a2cf55a983"
      },
      "outputs": [
        {
          "output_type": "stream",
          "name": "stdout",
          "text": [
            "[[0 1 0 1 0 1 0 1 0 1]\n",
            " [1 0 1 0 1 0 1 0 1 0]\n",
            " [0 1 0 1 0 1 0 1 0 1]\n",
            " [1 0 1 0 1 0 1 0 1 0]\n",
            " [0 1 0 1 0 1 0 1 0 1]\n",
            " [1 0 1 0 1 0 1 0 1 0]\n",
            " [0 1 0 1 0 1 0 1 0 1]\n",
            " [1 0 1 0 1 0 1 0 1 0]\n",
            " [0 1 0 1 0 1 0 1 0 1]\n",
            " [1 0 1 0 1 0 1 0 1 0]]\n"
          ]
        }
      ],
      "source": [
        "# 🖊️ TODO: create a 10×10 chessboard pattern using zeros & ones\n",
        "chessboard = np.full((10,10),0,dtype=int)\n",
        "chessboard[1::2,::2] = 1\n",
        "chessboard[::2,1::2] = 1\n",
        "print(chessboard)"
      ]
    },
    {
      "cell_type": "markdown",
      "id": "925be762",
      "metadata": {
        "id": "925be762"
      },
      "source": [
        "## <a name='attributes'></a>3️⃣ Array Attributes & Inspection"
      ]
    },
    {
      "cell_type": "markdown",
      "id": "f103bb36",
      "metadata": {
        "id": "f103bb36"
      },
      "source": [
        "`shape`, `ndim`, `size`, `dtype`, `itemsize`, `nbytes`"
      ]
    },
    {
      "cell_type": "code",
      "execution_count": 8,
      "id": "ad3eeda1",
      "metadata": {
        "colab": {
          "base_uri": "https://localhost:8080/"
        },
        "id": "ad3eeda1",
        "outputId": "91413374-a42a-490d-a98c-5949376e8880"
      },
      "outputs": [
        {
          "output_type": "stream",
          "name": "stdout",
          "text": [
            "shape (3, 4) ndim 2 size 12 itemsize 8 total bytes 96\n"
          ]
        }
      ],
      "source": [
        "M = np.arange(12).reshape(3,4)\n",
        "print('shape', M.shape, 'ndim', M.ndim, 'size', M.size, 'itemsize', M.itemsize, 'total bytes', M.nbytes)\n"
      ]
    },
    {
      "cell_type": "code",
      "execution_count": 10,
      "id": "5875fefe",
      "metadata": {
        "colab": {
          "base_uri": "https://localhost:8080/"
        },
        "id": "5875fefe",
        "outputId": "e93e71de-91cb-4cd9-87d7-ac3118dcea71"
      },
      "outputs": [
        {
          "output_type": "stream",
          "name": "stdout",
          "text": [
            "shape (1000, 1000) ndim 2 size 1000000 itemsize 8 total bytes 8000000\n"
          ]
        }
      ],
      "source": [
        "# 🖊️ TODO: check memory footprint of a 1000×1000 float64 array\n",
        "M = np.arange(1000000, dtype=np.int64).reshape(1000,1000)\n",
        "print('shape', M.shape, 'ndim', M.ndim, 'size', M.size, 'itemsize', M.itemsize, 'total bytes', M.nbytes)"
      ]
    },
    {
      "cell_type": "markdown",
      "id": "bd895660",
      "metadata": {
        "id": "bd895660"
      },
      "source": [
        "## <a name='indexing'></a>4️⃣ Indexing, Slicing & Fancy Indexing"
      ]
    },
    {
      "cell_type": "code",
      "execution_count": 11,
      "id": "5dc7d4c1",
      "metadata": {
        "colab": {
          "base_uri": "https://localhost:8080/"
        },
        "id": "5dc7d4c1",
        "outputId": "5831cb67-f3c0-481e-a61d-c28de35d31bc"
      },
      "outputs": [
        {
          "output_type": "stream",
          "name": "stdout",
          "text": [
            "[ 1  6 11 16 21]\n",
            "[[ 1  3  5]\n",
            " [11 13 15]\n",
            " [21 23 25]]\n",
            "multiples of 3: [ 3  6  9 12 15 18 21 24]\n"
          ]
        }
      ],
      "source": [
        "a = np.arange(1,26).reshape(5,5)\n",
        "print(a[:, 0])     # first column\n",
        "print(a[::2, ::2]) # every 2nd row/col\n",
        "mask = (a % 3 == 0)\n",
        "print('multiples of 3:', a[mask])\n"
      ]
    },
    {
      "cell_type": "code",
      "execution_count": 14,
      "id": "9c4bd5f4",
      "metadata": {
        "colab": {
          "base_uri": "https://localhost:8080/"
        },
        "id": "9c4bd5f4",
        "outputId": "a9b77993-7d0a-4095-98d4-71df4997deab"
      },
      "outputs": [
        {
          "output_type": "stream",
          "name": "stdout",
          "text": [
            "[[21 22 23 24 25]\n",
            " [ 6  7  8  9 10]\n",
            " [11 12 13 14 15]\n",
            " [16 17 18 19 20]\n",
            " [ 1  2  3  4  5]]\n"
          ]
        }
      ],
      "source": [
        "# 🖊️ TODO: use fancy indexing to swap first and last rows of `a`\n",
        "a = np.arange(1,26).reshape(5,5)\n",
        "a[[0, -1]] = a[[-1, 0]]\n",
        "print(a)"
      ]
    },
    {
      "cell_type": "markdown",
      "id": "8f4de1d5",
      "metadata": {
        "id": "8f4de1d5"
      },
      "source": [
        "## <a name='reshape'></a>5️⃣ Reshaping, Transpose & Copies vs Views"
      ]
    },
    {
      "cell_type": "code",
      "execution_count": null,
      "id": "053b4ff4",
      "metadata": {
        "id": "053b4ff4"
      },
      "outputs": [],
      "source": [
        "b = np.arange(8)\n",
        "B = b.reshape(2,4)\n",
        "B[0,0] = 99\n",
        "print('b is modified:', b)\n",
        "C = b.reshape(2,4).copy()\n",
        "C[0,0] = -1\n",
        "print('b unchanged with copy:', b)\n"
      ]
    },
    {
      "cell_type": "code",
      "execution_count": 17,
      "id": "a3e599bd",
      "metadata": {
        "colab": {
          "base_uri": "https://localhost:8080/"
        },
        "id": "a3e599bd",
        "outputId": "1e93b04b-3d60-4f96-baeb-aeea90db2219"
      },
      "outputs": [
        {
          "output_type": "stream",
          "name": "stdout",
          "text": [
            "Original:  [[[-1  1  2  3]\n",
            "  [ 4  5  6  7]\n",
            "  [ 8  9 10 11]]\n",
            "\n",
            " [[12 13 14 15]\n",
            "  [16 17 18 19]\n",
            "  [20 21 22 23]]]\n",
            "Using ravel:  [-1  1  2  3  4  5  6  7  8  9 10 11 12 13 14 15 16 17 18 19 20 21 22 23]\n",
            "\n",
            "Original:  [[[ 0  1  2  3]\n",
            "  [ 4  5  6  7]\n",
            "  [ 8  9 10 11]]\n",
            "\n",
            " [[12 13 14 15]\n",
            "  [16 17 18 19]\n",
            "  [20 21 22 23]]]\n",
            "Using flatten:  [-1  1  2  3  4  5  6  7  8  9 10 11 12 13 14 15 16 17 18 19 20 21 22 23]\n"
          ]
        }
      ],
      "source": [
        "# 🖊️ TODO: Flatten a 3‑D array into 1‑D using both `ravel` and `flatten`; observe copy vs view.\n",
        "arr1 = np.arange(24).reshape(2,3,4)\n",
        "ravel_arr = arr1.ravel()\n",
        "ravel_arr[0] = -1\n",
        "print('Original: ', arr1)\n",
        "print('Using ravel: ',ravel_arr)\n",
        "\n",
        "print(sep=\"\\n\")\n",
        "\n",
        "arr2 = np.arange(24).reshape(2,3,4)\n",
        "flatten_arr = arr2.flatten()\n",
        "flatten_arr[0] = -1\n",
        "print('Original: ', arr2)\n",
        "print('Using flatten: ',flatten_arr)\n"
      ]
    },
    {
      "cell_type": "markdown",
      "id": "2390c4ae",
      "metadata": {
        "id": "2390c4ae"
      },
      "source": [
        "## <a name='join'></a>6️⃣ Joining, Splitting, Set & Sorting Ops"
      ]
    },
    {
      "cell_type": "code",
      "execution_count": 18,
      "id": "a53f640a",
      "metadata": {
        "colab": {
          "base_uri": "https://localhost:8080/"
        },
        "id": "a53f640a",
        "outputId": "7d6e5cb7-6f89-4c77-c852-f3806214ca42"
      },
      "outputs": [
        {
          "output_type": "stream",
          "name": "stdout",
          "text": [
            "union [1 2 3 4 5 6]\n",
            "intersect [1 2]\n",
            "sorted descending [6 5 4 3 2 1]\n"
          ]
        }
      ],
      "source": [
        "x = np.array([1,3,5]); y = np.array([2,4,6])\n",
        "xy = np.concatenate([x,y])\n",
        "print('union', np.union1d(x,y))\n",
        "print('intersect', np.intersect1d(xy,[1,2,10]))\n",
        "print('sorted descending', np.sort(xy)[::-1])\n",
        "\n"
      ]
    },
    {
      "cell_type": "code",
      "execution_count": 20,
      "id": "4231e729",
      "metadata": {
        "colab": {
          "base_uri": "https://localhost:8080/"
        },
        "id": "4231e729",
        "outputId": "bd763c11-e4a4-45e2-e0c1-e5341b82c3f4"
      },
      "outputs": [
        {
          "output_type": "stream",
          "name": "stdout",
          "text": [
            "After splitting:  [array([1, 3, 5]), array([2, 4, 6])]\n"
          ]
        }
      ],
      "source": [
        "# 🖊️ TODO: split `xy` back into two equal halves using `np.array_split`\n",
        "x = np.array([1,3,5])\n",
        "y = np.array([2,4,6])\n",
        "xy = np.concatenate([x,y])\n",
        "print('After splitting: ', np.array_split(xy,2))"
      ]
    },
    {
      "cell_type": "markdown",
      "id": "e6ebeb68",
      "metadata": {
        "id": "e6ebeb68"
      },
      "source": [
        "## <a name='arithmetic'></a>7️⃣ Arithmetic Ops & Universal Functions"
      ]
    },
    {
      "cell_type": "code",
      "execution_count": null,
      "id": "04a6eda9",
      "metadata": {
        "id": "04a6eda9"
      },
      "outputs": [],
      "source": [
        "v = np.arange(5)\n",
        "print('exp', np.exp(v))\n",
        "print('sin', np.sin(v))\n",
        "print('vectorised addition', v + 10)\n"
      ]
    },
    {
      "cell_type": "code",
      "execution_count": 21,
      "id": "c011f422",
      "metadata": {
        "colab": {
          "base_uri": "https://localhost:8080/"
        },
        "id": "c011f422",
        "outputId": "8d28bf9b-cf5a-40a7-b084-29879e4d8c0c"
      },
      "outputs": [
        {
          "output_type": "stream",
          "name": "stdout",
          "text": [
            "Degrees: [ 0 30 45 60 90]\n",
            "Radians: [0.         0.52359878 0.78539816 1.04719755 1.57079633]\n",
            "Sine values: [0.         0.5        0.70710678 0.8660254  1.        ]\n"
          ]
        }
      ],
      "source": [
        "# 🖊️ TODO: given degrees [0,30,45,60,90], compute radians and sin values.\n",
        "degrees = np.array([0, 30, 45, 60, 90])\n",
        "radians = np.deg2rad(degrees)\n",
        "sin_values = np.sin(radians)\n",
        "print(\"Degrees:\", degrees)\n",
        "print(\"Radians:\", radians)\n",
        "print(\"Sine values:\", sin_values)"
      ]
    },
    {
      "cell_type": "markdown",
      "id": "7c9a5d70",
      "metadata": {
        "id": "7c9a5d70"
      },
      "source": [
        "## <a name='broadcast'></a>8️⃣ Broadcasting Rules"
      ]
    },
    {
      "cell_type": "markdown",
      "id": "aba2764d",
      "metadata": {
        "id": "aba2764d"
      },
      "source": [
        "Rules: compare dimensions from right → left; stretch size 1 dims; mismatch error."
      ]
    },
    {
      "cell_type": "code",
      "execution_count": null,
      "id": "6313899c",
      "metadata": {
        "id": "6313899c"
      },
      "outputs": [],
      "source": [
        "row = np.arange(5)\n",
        "col = np.arange(3).reshape(3,1)\n",
        "matrix = row + col  # broadcast to 3×5\n",
        "print(matrix)\n"
      ]
    },
    {
      "cell_type": "code",
      "execution_count": 22,
      "id": "de718119",
      "metadata": {
        "colab": {
          "base_uri": "https://localhost:8080/"
        },
        "id": "de718119",
        "outputId": "916b71a7-abb8-45bd-b77c-43114d7cc693"
      },
      "outputs": [
        {
          "output_type": "stream",
          "name": "stdout",
          "text": [
            "[[  1   2   3   4   5   6   7   8   9  10]\n",
            " [  2   4   6   8  10  12  14  16  18  20]\n",
            " [  3   6   9  12  15  18  21  24  27  30]\n",
            " [  4   8  12  16  20  24  28  32  36  40]\n",
            " [  5  10  15  20  25  30  35  40  45  50]\n",
            " [  6  12  18  24  30  36  42  48  54  60]\n",
            " [  7  14  21  28  35  42  49  56  63  70]\n",
            " [  8  16  24  32  40  48  56  64  72  80]\n",
            " [  9  18  27  36  45  54  63  72  81  90]\n",
            " [ 10  20  30  40  50  60  70  80  90 100]]\n"
          ]
        }
      ],
      "source": [
        "# 🖊️ TODO: use broadcasting to create a 10×10 multiplication table.\n",
        "row = np.arange(1, 11)\n",
        "col = np.arange(1, 11).reshape(10, 1)\n",
        "table = row * col\n",
        "print(table)"
      ]
    },
    {
      "cell_type": "markdown",
      "id": "38a618c8",
      "metadata": {
        "id": "38a618c8"
      },
      "source": [
        "## <a name='stats'></a>9️⃣ Statistics & Aggregations"
      ]
    },
    {
      "cell_type": "code",
      "execution_count": null,
      "id": "af9ac70d",
      "metadata": {
        "id": "af9ac70d"
      },
      "outputs": [],
      "source": [
        "data = np.random.default_rng(0).integers(1, 100, size=(5,4))\n",
        "print('data\\n', data)\n",
        "print('row sums', data.sum(axis=1))\n",
        "print('col means', data.mean(axis=0))\n"
      ]
    },
    {
      "cell_type": "code",
      "execution_count": 24,
      "id": "63adf5be",
      "metadata": {
        "colab": {
          "base_uri": "https://localhost:8080/"
        },
        "id": "63adf5be",
        "outputId": "335cf4dd-1ad1-46b1-f9f2-c225a25f153c"
      },
      "outputs": [
        {
          "output_type": "stream",
          "name": "stdout",
          "text": [
            "percentiles [30.  58.5 75. ]\n"
          ]
        }
      ],
      "source": [
        "# 🖊️ TODO: compute `np.percentile` (25th, 50th, 75th) of flattened `data`.\n",
        "data = np.random.default_rng(0).integers(1, 100, size=(5,4))\n",
        "print('percentiles', np.percentile(data, [25, 50, 75]))"
      ]
    },
    {
      "cell_type": "markdown",
      "id": "8f3c00d7",
      "metadata": {
        "id": "8f3c00d7"
      },
      "source": [
        "## <a name='random'></a>🔟 Random Numbers & Reproducibility"
      ]
    },
    {
      "cell_type": "code",
      "execution_count": null,
      "id": "98016975",
      "metadata": {
        "id": "98016975"
      },
      "outputs": [],
      "source": [
        "rng = np.random.default_rng(42)\n",
        "rand_floats = rng.random(5)\n",
        "rand_ints = rng.integers(low=10, high=50, size=5)\n",
        "print(rand_floats, rand_ints)\n",
        "rng2 = np.random.default_rng(42)\n",
        "assert np.allclose(rand_floats, rng2.random(5))\n"
      ]
    },
    {
      "cell_type": "code",
      "execution_count": 26,
      "id": "35dbadba",
      "metadata": {
        "colab": {
          "base_uri": "https://localhost:8080/"
        },
        "id": "35dbadba",
        "outputId": "fd77bfd8-128c-43a7-d4a0-8ec485bebeeb"
      },
      "outputs": [
        {
          "output_type": "stream",
          "name": "stdout",
          "text": [
            "proportion of 6s: 0.14\n"
          ]
        }
      ],
      "source": [
        "# 🖊️ TODO: simulate rolling a fair six‑sided die 100 times; estimate proportion of 6s.\n",
        "rng = np.random.default_rng(42)\n",
        "rolls = rng.integers(1, 7, size=100)\n",
        "print('proportion of 6s:', np.mean(rolls == 6))\n"
      ]
    },
    {
      "cell_type": "markdown",
      "id": "6cdb04b2",
      "metadata": {
        "id": "6cdb04b2"
      },
      "source": [
        "## <a name='structured'></a>1️⃣1️⃣ Structured / Record Arrays"
      ]
    },
    {
      "cell_type": "code",
      "execution_count": null,
      "id": "d8f64e42",
      "metadata": {
        "id": "d8f64e42"
      },
      "outputs": [],
      "source": [
        "people = np.array([('Alice', 25, 55.0), ('Bob', 30, 85.5)],\n",
        "                   dtype=[('name','U10'), ('age','i4'), ('weight','f4')])\n",
        "print(people['name'], people['age'].mean())\n"
      ]
    },
    {
      "cell_type": "code",
      "execution_count": null,
      "id": "7a65fe1d",
      "metadata": {
        "id": "7a65fe1d"
      },
      "outputs": [],
      "source": [
        "# 🖊️ TODO: add a new field 'height' to the structured array using `np.lib.recfunctions.append_fields` (hint: pip install?).\n"
      ]
    },
    {
      "cell_type": "markdown",
      "id": "df5b617b",
      "metadata": {
        "id": "df5b617b"
      },
      "source": [
        "## <a name='linalg'></a>1️⃣2️⃣ Linear Algebra Essentials"
      ]
    },
    {
      "cell_type": "code",
      "execution_count": null,
      "id": "3f7fb475",
      "metadata": {
        "id": "3f7fb475"
      },
      "outputs": [],
      "source": [
        "A = np.random.random((3,3))\n",
        "b = np.random.random(3)\n",
        "x = np.linalg.solve(A, b)\n",
        "print('A·x ≈ b?', np.allclose(A.dot(x), b))\n"
      ]
    },
    {
      "cell_type": "code",
      "execution_count": null,
      "id": "a8fb02d7",
      "metadata": {
        "id": "a8fb02d7"
      },
      "outputs": [],
      "source": [
        "# 🖊️ TODO: compute eigenvalues of `A` using `np.linalg.eig`.\n"
      ]
    },
    {
      "cell_type": "markdown",
      "id": "e8fd753c",
      "metadata": {
        "id": "e8fd753c"
      },
      "source": [
        "## <a name='io'></a>1️⃣3️⃣ File I/O (`npy`, `npz`, `txt`)"
      ]
    },
    {
      "cell_type": "code",
      "execution_count": null,
      "id": "bd6dc026",
      "metadata": {
        "id": "bd6dc026"
      },
      "outputs": [],
      "source": [
        "np.save('array.npy', A)\n",
        "loaded = np.load('array.npy')\n",
        "print('loaded equals A?', np.allclose(loaded, A))\n",
        "np.savez('multi_arrays.npz', A=A, b=b)\n"
      ]
    },
    {
      "cell_type": "code",
      "execution_count": null,
      "id": "d9552893",
      "metadata": {
        "id": "d9552893"
      },
      "outputs": [],
      "source": [
        "# 🖊️ TODO: Use `np.savetxt` to write `data` (from stats section) to CSV then reload with `np.loadtxt`.\n"
      ]
    },
    {
      "cell_type": "markdown",
      "id": "f24f33e3",
      "metadata": {
        "id": "f24f33e3"
      },
      "source": [
        "## <a name='datetime'></a>1️⃣4️⃣ Datetime64 & Timedelta64"
      ]
    },
    {
      "cell_type": "code",
      "execution_count": null,
      "id": "3ce7b543",
      "metadata": {
        "id": "3ce7b543"
      },
      "outputs": [],
      "source": [
        "dates = np.arange('2023-01', '2023-04', dtype='datetime64[D]')\n",
        "delta = dates[1:] - dates[:-1]\n",
        "print(dates[:5], delta[0])\n"
      ]
    },
    {
      "cell_type": "code",
      "execution_count": null,
      "id": "e493d6f8",
      "metadata": {
        "id": "e493d6f8"
      },
      "outputs": [],
      "source": [
        "# 🖊️ TODO: find how many Mondays appear in `dates` array.\n"
      ]
    },
    {
      "cell_type": "markdown",
      "id": "636116b9",
      "metadata": {
        "id": "636116b9"
      },
      "source": [
        "## <a name='mask'></a>1️⃣5️⃣ Masked Arrays & NaNs"
      ]
    },
    {
      "cell_type": "code",
      "execution_count": null,
      "id": "ec30b3ee",
      "metadata": {
        "id": "ec30b3ee"
      },
      "outputs": [],
      "source": [
        "arr = np.array([1, 2, np.nan, 4, np.nan])\n",
        "masked = np.ma.masked_invalid(arr)\n",
        "print(masked.mean())\n"
      ]
    },
    {
      "cell_type": "code",
      "execution_count": null,
      "id": "1ead3a9c",
      "metadata": {
        "id": "1ead3a9c"
      },
      "outputs": [],
      "source": [
        "# 🖊️ TODO: replace NaNs with column means in a 2‑D array containing NaNs.\n"
      ]
    },
    {
      "cell_type": "markdown",
      "id": "509e6104",
      "metadata": {
        "id": "509e6104"
      },
      "source": [
        "## <a name='project'></a>1️⃣6️⃣ Mini‑Project: Fitness Data Analysis"
      ]
    },
    {
      "cell_type": "markdown",
      "id": "d867d3a6",
      "metadata": {
        "id": "d867d3a6"
      },
      "source": [
        "Load `fitness.txt` (tab‑separated) then follow prompts."
      ]
    },
    {
      "cell_type": "code",
      "execution_count": null,
      "id": "593e50db",
      "metadata": {
        "id": "593e50db"
      },
      "outputs": [],
      "source": [
        "fitness = np.genfromtxt('fitness.txt', delimiter='\\t', dtype=None, encoding=None, names=True)\n",
        "print('columns:', fitness.dtype.names, 'rows:', len(fitness))\n"
      ]
    },
    {
      "cell_type": "code",
      "execution_count": null,
      "id": "32e514d2",
      "metadata": {
        "id": "32e514d2"
      },
      "outputs": [],
      "source": [
        "# 🖊️ TODO: Monthly step count, sleep vs mood correlation, weekly summary, etc.\n"
      ]
    },
    {
      "cell_type": "markdown",
      "id": "e7c0e1dc",
      "metadata": {
        "id": "e7c0e1dc"
      },
      "source": [
        "## <a name='conclusion'></a>1️⃣7️⃣ Conclusion & Further Practice\n",
        "Congrats on covering **all core NumPy topics** from your five lecture notebooks!\n",
        "\n",
        "*Keep experimenting, read the official docs, and try converting your NumPy pipelines into Pandas or JAX for more fun.*"
      ]
    }
  ],
  "metadata": {
    "colab": {
      "provenance": []
    },
    "language_info": {
      "name": "python"
    },
    "kernelspec": {
      "name": "python3",
      "display_name": "Python 3"
    }
  },
  "nbformat": 4,
  "nbformat_minor": 5
}